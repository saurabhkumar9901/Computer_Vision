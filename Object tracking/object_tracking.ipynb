{
 "cells": [
  {
   "cell_type": "markdown",
   "metadata": {},
   "source": [
    "## Object Tracking with KCF (Kernel Correlation Filter)"
   ]
  },
  {
   "cell_type": "code",
   "execution_count": 1,
   "metadata": {},
   "outputs": [],
   "source": [
    "import cv2\n",
    "tracker = cv2.TrackerKCF_create()"
   ]
  },
  {
   "cell_type": "code",
   "execution_count": 2,
   "metadata": {},
   "outputs": [],
   "source": [
    "video = cv2.VideoCapture('D:/Computer Vision Masterclass/repo/Videos/race.mp4')\n",
    "ok, frame = video.read()\n",
    "bbox = cv2.selectROI(\"Select Region\", frame)\n",
    "#print(bbox)\n",
    "ok = tracker.init(frame, bbox)\n",
    "#print(ok)\n",
    "\n",
    "while True:\n",
    "   \n",
    "    ok ,frame = video.read()\n",
    "    if not ok:\n",
    "        break        \n",
    "\n",
    "    ok , bbox = tracker.update(frame)\n",
    "    #print(bbox)\n",
    "    #print(ok)\n",
    "    if ok:\n",
    "        (x, y, w, h) = [int(v) for v in bbox ]\n",
    "        cv2.rectangle(frame, (x, y), (x+w, y+h), (0, 255, 0), 2, 1)\n",
    "    else:\n",
    "        cv2.putText(frame, 'Error', (100, 80), cv2.FONT_HERSHEY_COMPLEX, 1, (0, 0,255),2)\n",
    "\n",
    "    cv2.imshow('Tracking', frame)\n",
    "    if cv2.waitKey(1) & 0XFF == 27:\n",
    "        break\n",
    "    \n",
    "cv2.destroyAllWindows()"
   ]
  },
  {
   "cell_type": "markdown",
   "metadata": {},
   "source": [
    "## Object Tracking using CSRT (Space readabilty technique)"
   ]
  },
  {
   "cell_type": "code",
   "execution_count": 2,
   "metadata": {},
   "outputs": [],
   "source": [
    "tracker_2 = cv2.TrackerCSRT_create()"
   ]
  },
  {
   "cell_type": "code",
   "execution_count": 3,
   "metadata": {},
   "outputs": [],
   "source": [
    "video = cv2.VideoCapture('D:/Computer Vision Masterclass/repo/Videos/race.mp4')\n",
    "ok, frame = video.read()\n",
    "bbox = cv2.selectROI(\"Select Region\", frame)\n",
    "#print(bbox)\n",
    "ok = tracker_2.init(frame, bbox)\n",
    "#print(ok)\n",
    "\n",
    "while True:\n",
    "   \n",
    "    ok ,frame = video.read()\n",
    "    if not ok:\n",
    "        break        \n",
    "\n",
    "    ok , bbox = tracker_2.update(frame)\n",
    "    #print(bbox)\n",
    "    #print(ok)\n",
    "    if ok:\n",
    "        (x, y, w, h) = [int(v) for v in bbox ]\n",
    "        cv2.rectangle(frame, (x, y), (x+w, y+h), (0, 255, 0), 2, 1)\n",
    "    else:\n",
    "        cv2.putText(frame, 'Error', (100, 80), cv2.FONT_HERSHEY_COMPLEX, 1, (0, 0,255),2)\n",
    "\n",
    "    cv2.imshow('Tracking', frame)\n",
    "    if cv2.waitKey(1) & 0XFF == 27:\n",
    "        break\n",
    "    \n",
    "cv2.destroyAllWindows()"
   ]
  },
  {
   "cell_type": "markdown",
   "metadata": {},
   "source": [
    "## Homework"
   ]
  },
  {
   "cell_type": "code",
   "execution_count": 6,
   "metadata": {},
   "outputs": [],
   "source": [
    "#Using KCF\n",
    "tracker_kcf = cv2.TrackerKCF_create()\n",
    "video = cv2.VideoCapture('D:/Computer Vision Masterclass/repo/Videos/street.mp4')\n",
    "ok, frame = video.read()\n",
    "bbox = cv2.selectROI(\"Select Region\", frame)\n",
    "#print(bbox)\n",
    "ok = tracker_kcf.init(frame, bbox)\n",
    "#print(ok)\n",
    "\n",
    "while True:\n",
    "   \n",
    "    ok ,frame = video.read()\n",
    "    if not ok:\n",
    "        break        \n",
    "\n",
    "    ok , bbox = tracker_kcf.update(frame)\n",
    "    #print(bbox)\n",
    "    #print(ok)\n",
    "    if ok:\n",
    "        (x, y, w, h) = [int(v) for v in bbox ]\n",
    "        cv2.rectangle(frame, (x, y), (x+w, y+h), (0, 255, 0), 2, 1)\n",
    "    else:\n",
    "        cv2.putText(frame, 'Error', (100, 80), cv2.FONT_HERSHEY_COMPLEX, 1, (0, 0,255),2)\n",
    "\n",
    "    cv2.imshow('Tracking', frame)\n",
    "    if cv2.waitKey(1) & 0XFF == 27:\n",
    "        break\n",
    "    \n",
    "cv2.destroyAllWindows()"
   ]
  },
  {
   "cell_type": "code",
   "execution_count": 7,
   "metadata": {},
   "outputs": [],
   "source": [
    "#Using CSRT\n",
    "tracker_csrt = cv2.TrackerCSRT_create()\n",
    "video = cv2.VideoCapture('D:/Computer Vision Masterclass/repo/Videos/street.mp4')\n",
    "ok, frame = video.read()\n",
    "bbox = cv2.selectROI(\"Select Region\", frame)\n",
    "#print(bbox)\n",
    "ok = tracker_csrt.init(frame, bbox)\n",
    "#print(ok)\n",
    "\n",
    "while True:\n",
    "   \n",
    "    ok ,frame = video.read()\n",
    "    if not ok:\n",
    "        break        \n",
    "\n",
    "    ok , bbox = tracker_csrt.update(frame)\n",
    "    #print(bbox)\n",
    "    #print(ok)\n",
    "    if ok:\n",
    "        (x, y, w, h) = [int(v) for v in bbox ]\n",
    "        cv2.rectangle(frame, (x, y), (x+w, y+h), (0, 255, 0), 2, 1)\n",
    "    else:\n",
    "        cv2.putText(frame, 'Error', (100, 80), cv2.FONT_HERSHEY_COMPLEX, 1, (0, 0,255),2)\n",
    "\n",
    "    cv2.imshow('Tracking', frame)\n",
    "    if cv2.waitKey(1) & 0XFF == 27:\n",
    "        break\n",
    "    \n",
    "cv2.destroyAllWindows()"
   ]
  }
 ],
 "metadata": {
  "kernelspec": {
   "display_name": "Python 3.10.0 ('vision')",
   "language": "python",
   "name": "python3"
  },
  "language_info": {
   "codemirror_mode": {
    "name": "ipython",
    "version": 3
   },
   "file_extension": ".py",
   "mimetype": "text/x-python",
   "name": "python",
   "nbconvert_exporter": "python",
   "pygments_lexer": "ipython3",
   "version": "3.10.0"
  },
  "orig_nbformat": 4,
  "vscode": {
   "interpreter": {
    "hash": "e58c72fbbc48e828b04d05c21f4eefa6dd18a8487a1876d01c58ef03452063e5"
   }
  }
 },
 "nbformat": 4,
 "nbformat_minor": 2
}
