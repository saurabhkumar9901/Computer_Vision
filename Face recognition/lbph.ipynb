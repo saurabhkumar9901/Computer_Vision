{
 "cells": [
  {
   "cell_type": "code",
   "execution_count": 51,
   "metadata": {},
   "outputs": [],
   "source": [
    "from PIL import Image\n",
    "import cv2\n",
    "import numpy as np\n",
    "import os"
   ]
  },
  {
   "cell_type": "code",
   "execution_count": 52,
   "metadata": {},
   "outputs": [],
   "source": [
    "def imshow(image):\n",
    "    windows = 'image'\n",
    "    cv2.imshow(windows, image)\n",
    "    cv2.waitKey(0)\n",
    "    cv2.destroyAllWindows()"
   ]
  },
  {
   "cell_type": "code",
   "execution_count": 53,
   "metadata": {},
   "outputs": [],
   "source": [
    "import zipfile\n",
    "path = 'D:/Computer Vision Masterclass/repo/Datasets/yalefaces.zip'\n",
    "zip_object = zipfile.ZipFile(file = path, mode ='r')\n",
    "zip_object.extractall('./')\n",
    "zip_object.close()"
   ]
  },
  {
   "cell_type": "markdown",
   "metadata": {},
   "source": [
    "## Preprocessing the image"
   ]
  },
  {
   "cell_type": "code",
   "execution_count": 54,
   "metadata": {},
   "outputs": [],
   "source": [
    "def get_image_data():\n",
    "    paths = [os.path.join('D:/Computer Vision Masterclass/Face recognition/yalefaces/train', f) for f in os.listdir('D:/Computer Vision Masterclass/Face recognition/yalefaces/train')]\n",
    "    #print(paths)\n",
    "    faces = []\n",
    "    ids = []\n",
    "    for path in paths:\n",
    "        #print(path)\n",
    "        image = Image.open(path).convert('L')\n",
    "        image_np =np.array(image, 'uint8')\n",
    "        #print(type(image_np))\n",
    "        id = int(os.path.split(path)[1].split('.')[0].replace('subject', ''))\n",
    "        #print(id)\n",
    "        ids.append(id)\n",
    "        faces.append(image_np)\n",
    "    return np.array(ids), faces"
   ]
  },
  {
   "cell_type": "code",
   "execution_count": 55,
   "metadata": {},
   "outputs": [],
   "source": [
    "ids, faces = get_image_data()"
   ]
  },
  {
   "cell_type": "code",
   "execution_count": 56,
   "metadata": {},
   "outputs": [
    {
     "data": {
      "text/plain": [
       "array([ 1,  1,  1,  1,  1,  1,  1,  1,  1,  2,  2,  2,  2,  2,  2,  2,  2,\n",
       "        2,  3,  3,  3,  3,  3,  3,  3,  3,  3,  4,  4,  4,  4,  4,  4,  4,\n",
       "        4,  4,  5,  5,  5,  5,  5,  5,  5,  5,  5,  6,  6,  6,  6,  6,  6,\n",
       "        6,  6,  6,  7,  7,  7,  7,  7,  7,  7,  7,  7,  8,  8,  8,  8,  8,\n",
       "        8,  8,  8,  8,  9,  9,  9,  9,  9,  9,  9,  9,  9, 10, 10, 10, 10,\n",
       "       10, 10, 10, 10, 10, 11, 11, 11, 11, 11, 11, 11, 11, 11, 12, 12, 12,\n",
       "       12, 12, 12, 12, 12, 12, 13, 13, 13, 13, 13, 13, 13, 13, 13, 14, 14,\n",
       "       14, 14, 14, 14, 14, 14, 14, 15, 15, 15, 15, 15, 15, 15, 15, 15])"
      ]
     },
     "execution_count": 56,
     "metadata": {},
     "output_type": "execute_result"
    }
   ],
   "source": [
    "ids"
   ]
  },
  {
   "cell_type": "code",
   "execution_count": 57,
   "metadata": {},
   "outputs": [
    {
     "data": {
      "text/plain": [
       "(243, 320)"
      ]
     },
     "execution_count": 57,
     "metadata": {},
     "output_type": "execute_result"
    }
   ],
   "source": [
    "faces[0].shape"
   ]
  },
  {
   "cell_type": "markdown",
   "metadata": {},
   "source": [
    "## Training the LBPH "
   ]
  },
  {
   "cell_type": "code",
   "execution_count": 58,
   "metadata": {},
   "outputs": [],
   "source": [
    "lbph_classifier = cv2.face.LBPHFaceRecognizer_create(radius=3, neighbors = 12, grid_x=9 , grid_y=9)\n",
    "lbph_classifier.train(faces, ids)\n",
    "lbph_classifier.write('lbph_classifier.yml')"
   ]
  },
  {
   "cell_type": "markdown",
   "metadata": {},
   "source": [
    "# Recognising faces"
   ]
  },
  {
   "cell_type": "code",
   "execution_count": 59,
   "metadata": {},
   "outputs": [],
   "source": [
    "lbph_face_classifier = cv2.face.LBPHFaceRecognizer_create()\n",
    "lbph_face_classifier.read('D:/Computer Vision Masterclass/Face recognition/lbph_classifier.yml')"
   ]
  },
  {
   "cell_type": "code",
   "execution_count": 60,
   "metadata": {},
   "outputs": [
    {
     "data": {
      "text/plain": [
       "'D:/Computer Vision Masterclass/Face recognition/yalefaces/test/subject10.sad.gif'"
      ]
     },
     "execution_count": 60,
     "metadata": {},
     "output_type": "execute_result"
    }
   ],
   "source": [
    "test_image = 'D:/Computer Vision Masterclass/Face recognition/yalefaces/test/subject10.sad.gif'\n",
    "test_image"
   ]
  },
  {
   "cell_type": "code",
   "execution_count": 61,
   "metadata": {},
   "outputs": [],
   "source": [
    "image = Image.open(test_image).convert('L')\n",
    "image_np = np.array(image, 'uint8')"
   ]
  },
  {
   "cell_type": "code",
   "execution_count": 62,
   "metadata": {},
   "outputs": [
    {
     "data": {
      "text/plain": [
       "(10, 27.619284922353426)"
      ]
     },
     "execution_count": 62,
     "metadata": {},
     "output_type": "execute_result"
    }
   ],
   "source": [
    "prediction =  lbph_face_classifier.predict(image_np)\n",
    "prediction"
   ]
  },
  {
   "cell_type": "code",
   "execution_count": 63,
   "metadata": {},
   "outputs": [
    {
     "data": {
      "text/plain": [
       "10"
      ]
     },
     "execution_count": 63,
     "metadata": {},
     "output_type": "execute_result"
    }
   ],
   "source": [
    "expected_output = int(os.path.split(test_image)[1].split('.')[0].replace('subject', ''))\n",
    "expected_output"
   ]
  },
  {
   "cell_type": "code",
   "execution_count": 64,
   "metadata": {},
   "outputs": [],
   "source": [
    "imshow(image_np)"
   ]
  },
  {
   "cell_type": "code",
   "execution_count": 65,
   "metadata": {},
   "outputs": [],
   "source": [
    "cv2.putText(image_np, 'Pred : ' + str(prediction[0]),(10, 30), cv2.FONT_HERSHEY_COMPLEX, 1, (0, 255, 255))\n",
    "cv2.putText(image_np, 'Exp : ' + str(expected_output),(10, 50), cv2.FONT_HERSHEY_COMPLEX, 1, (0, 255, 255))\n",
    "imshow(image_np)\n"
   ]
  },
  {
   "cell_type": "markdown",
   "metadata": {},
   "source": [
    "## Evaluating the face classifier"
   ]
  },
  {
   "cell_type": "code",
   "execution_count": 66,
   "metadata": {},
   "outputs": [],
   "source": [
    "paths = [os.path.join('D:/Computer Vision Masterclass/Face recognition/yalefaces/test', f) for f in os.listdir('D:/Computer Vision Masterclass/Face recognition/yalefaces/test')]\n",
    "predictions = []\n",
    "expected_outputs = []\n",
    "for path in paths:\n",
    "    image = Image.open(path).convert('L')\n",
    "    image_np = np.array(image, 'uint8')\n",
    "    prediction, _ = lbph_face_classifier.predict(image_np)\n",
    "    expected_output = int(os.path.split(path)[1].split('.')[0].replace('subject', ''))\n",
    "\n",
    "    predictions.append(prediction)\n",
    "    expected_outputs.append(expected_output)"
   ]
  },
  {
   "cell_type": "code",
   "execution_count": 67,
   "metadata": {},
   "outputs": [],
   "source": [
    "predictions = np.array(predictions)\n",
    "expected_outputs = np.array(expected_outputs)"
   ]
  },
  {
   "cell_type": "code",
   "execution_count": 68,
   "metadata": {},
   "outputs": [
    {
     "data": {
      "text/plain": [
       "array([ 4,  1,  4, 12,  3,  9,  9,  4,  5,  5,  6, 14,  7,  9,  8,  3,  7,\n",
       "        9,  4, 10, 11, 11, 12, 12, 13, 13, 14, 14,  7, 15])"
      ]
     },
     "execution_count": 68,
     "metadata": {},
     "output_type": "execute_result"
    }
   ],
   "source": [
    "predictions"
   ]
  },
  {
   "cell_type": "code",
   "execution_count": 69,
   "metadata": {},
   "outputs": [
    {
     "data": {
      "text/plain": [
       "array([ 1,  1,  2,  2,  3,  3,  4,  4,  5,  5,  6,  6,  7,  7,  8,  8,  9,\n",
       "        9, 10, 10, 11, 11, 12, 12, 13, 13, 14, 14, 15, 15])"
      ]
     },
     "execution_count": 69,
     "metadata": {},
     "output_type": "execute_result"
    }
   ],
   "source": [
    "expected_outputs"
   ]
  },
  {
   "cell_type": "code",
   "execution_count": 70,
   "metadata": {},
   "outputs": [
    {
     "data": {
      "text/plain": [
       "0.6333333333333333"
      ]
     },
     "execution_count": 70,
     "metadata": {},
     "output_type": "execute_result"
    }
   ],
   "source": [
    "from sklearn.metrics import accuracy_score\n",
    "accuracy_score(expected_outputs, predictions)"
   ]
  },
  {
   "cell_type": "code",
   "execution_count": 71,
   "metadata": {},
   "outputs": [],
   "source": [
    "from sklearn.metrics import  confusion_matrix\n",
    "\n",
    "cm=confusion_matrix(expected_outputs, predictions)"
   ]
  },
  {
   "cell_type": "code",
   "execution_count": 72,
   "metadata": {},
   "outputs": [
    {
     "data": {
      "text/plain": [
       "<Axes: >"
      ]
     },
     "execution_count": 72,
     "metadata": {},
     "output_type": "execute_result"
    },
    {
     "data": {
      "image/png": "[encoded data removed]",
      "text/plain": [
       "<Figure size 640x480 with 2 Axes>"
      ]
     },
     "metadata": {},
     "output_type": "display_data"
    }
   ],
   "source": [
    "import seaborn\n",
    "seaborn.heatmap(cm , annot=True)"
   ]
  },
  {
   "cell_type": "markdown",
   "metadata": {},
   "source": [
    "## DLib"
   ]
  },
  {
   "cell_type": "code",
   "execution_count": 73,
   "metadata": {},
   "outputs": [],
   "source": [
    "import dlib"
   ]
  },
  {
   "cell_type": "markdown",
   "metadata": {},
   "source": [
    "## Detecting Facial points"
   ]
  },
  {
   "cell_type": "code",
   "execution_count": 74,
   "metadata": {},
   "outputs": [],
   "source": [
    "face_detector = dlib.get_frontal_face_detector()\n",
    "points_detetctor = dlib.shape_predictor('D:/Computer Vision Masterclass/repo/Weights/shape_predictor_68_face_landmarks.dat')"
   ]
  },
  {
   "cell_type": "code",
   "execution_count": 75,
   "metadata": {},
   "outputs": [],
   "source": [
    "image = cv2.imread('D:/Computer Vision Masterclass/repo/Images/people2.jpg')\n",
    "face_detection = face_detector(image, 1)\n",
    "for face in face_detection:\n",
    "    points = points_detetctor(image, face)\n",
    "    for point in points.parts():\n",
    "        cv2.circle(image, (point.x, point.y), 2 ,(0,255,0), 1)\n",
    "    #print(points.parts())\n",
    "    #print(len(points.parts()))\n",
    "    l, t, r, b = face.left(), face.top(), face.right(), face.bottom()\n",
    "    cv2.rectangle(image, (l,t), (r,b), (0,255,0), 2)\n",
    "imshow(image)"
   ]
  },
  {
   "cell_type": "markdown",
   "metadata": {},
   "source": [
    "## Detecting Facial Descriptors"
   ]
  },
  {
   "cell_type": "code",
   "execution_count": 76,
   "metadata": {},
   "outputs": [],
   "source": [
    "face_detector = dlib.get_frontal_face_detector()\n",
    "points_detector = dlib.shape_predictor('D:/Computer Vision Masterclass/repo/Weights/shape_predictor_68_face_landmarks.dat')\n",
    "face_description_extractor = dlib.face_recognition_model_v1('D:/Computer Vision Masterclass/repo/Weights/dlib_face_recognition_resnet_model_v1.dat')"
   ]
  },
  {
   "cell_type": "code",
   "execution_count": 77,
   "metadata": {},
   "outputs": [],
   "source": [
    "index = {}\n",
    "idx = 0\n",
    "face_descriptors = None\n",
    "\n",
    "paths = [os.path.join('D:/Computer Vision Masterclass/Face recognition/yalefaces/train', f) for f in os.listdir('D:/Computer Vision Masterclass/Face recognition/yalefaces/train')]\n",
    "for path in paths:\n",
    "    image = Image.open(path).convert('RGB')\n",
    "    image_np = np.array(image, 'uint8')\n",
    "    face_detection = face_detector(image_np, 1)\n",
    "    for face in face_detection:\n",
    "        l, t, r, b = face.left(), face.top(), face.right(), face.bottom()\n",
    "        cv2.rectangle(image_np, (l, t), (r, b), (0,255,0), 2) \n",
    "        points = points_detector(image_np, face)\n",
    "        for point in points.parts():\n",
    "            cv2.circle(image_np, (point.x, point.y), 2, (0, 255, 0), 1)\n",
    "        face_descriptor = face_description_extractor.compute_face_descriptor(image_np, points)\n",
    "        #print(face_descriptor)\n",
    "        face_descriptor = [f for f in face_descriptor]\n",
    "        #print(face_descriptor)\n",
    "        face_descriptor = np.asarray(face_descriptor, dtype = np.float64)\n",
    "        #print(face_descriptor)\n",
    "        #print(face_descriptors.shape)\n",
    "        face_descriptor = face_descriptor[np.newaxis, :]\n",
    "        #print(face_descriptor)\n",
    "\n",
    "        if face_descriptors is None:\n",
    "            face_descriptors = face_descriptor\n",
    "        else:\n",
    "            face_descriptors = np.concatenate((face_descriptors, face_descriptor), axis = 0)\n",
    "        index[idx] = path\n",
    "        idx += 1\n",
    "\n",
    "    imshow(image_np)\n"
   ]
  },
  {
   "cell_type": "code",
   "execution_count": 78,
   "metadata": {},
   "outputs": [
    {
     "data": {
      "text/plain": [
       "{0: 'D:/Computer Vision Masterclass/Face recognition/yalefaces/train\\\\subject01.glasses.gif',\n",
       " 1: 'D:/Computer Vision Masterclass/Face recognition/yalefaces/train\\\\subject01.leftlight.gif',\n",
       " 2: 'D:/Computer Vision Masterclass/Face recognition/yalefaces/train\\\\subject01.noglasses.gif',\n",
       " 3: 'D:/Computer Vision Masterclass/Face recognition/yalefaces/train\\\\subject01.normal.gif',\n",
       " 4: 'D:/Computer Vision Masterclass/Face recognition/yalefaces/train\\\\subject01.sad.gif',\n",
       " 5: 'D:/Computer Vision Masterclass/Face recognition/yalefaces/train\\\\subject01.sleepy.gif',\n",
       " 6: 'D:/Computer Vision Masterclass/Face recognition/yalefaces/train\\\\subject01.surprised.gif',\n",
       " 7: 'D:/Computer Vision Masterclass/Face recognition/yalefaces/train\\\\subject01.wink.gif',\n",
       " 8: 'D:/Computer Vision Masterclass/Face recognition/yalefaces/train\\\\subject02.glasses.gif',\n",
       " 9: 'D:/Computer Vision Masterclass/Face recognition/yalefaces/train\\\\subject02.happy.gif',\n",
       " 10: 'D:/Computer Vision Masterclass/Face recognition/yalefaces/train\\\\subject02.noglasses.gif',\n",
       " 11: 'D:/Computer Vision Masterclass/Face recognition/yalefaces/train\\\\subject02.normal.gif',\n",
       " 12: 'D:/Computer Vision Masterclass/Face recognition/yalefaces/train\\\\subject02.rightlight.gif',\n",
       " 13: 'D:/Computer Vision Masterclass/Face recognition/yalefaces/train\\\\subject02.sad.gif',\n",
       " 14: 'D:/Computer Vision Masterclass/Face recognition/yalefaces/train\\\\subject02.sleepy.gif',\n",
       " 15: 'D:/Computer Vision Masterclass/Face recognition/yalefaces/train\\\\subject02.surprised.gif',\n",
       " 16: 'D:/Computer Vision Masterclass/Face recognition/yalefaces/train\\\\subject02.wink.gif',\n",
       " 17: 'D:/Computer Vision Masterclass/Face recognition/yalefaces/train\\\\subject03.centerlight.gif',\n",
       " 18: 'D:/Computer Vision Masterclass/Face recognition/yalefaces/train\\\\subject03.happy.gif',\n",
       " 19: 'D:/Computer Vision Masterclass/Face recognition/yalefaces/train\\\\subject03.noglasses.gif',\n",
       " 20: 'D:/Computer Vision Masterclass/Face recognition/yalefaces/train\\\\subject03.normal.gif',\n",
       " 21: 'D:/Computer Vision Masterclass/Face recognition/yalefaces/train\\\\subject03.rightlight.gif',\n",
       " 22: 'D:/Computer Vision Masterclass/Face recognition/yalefaces/train\\\\subject03.sad.gif',\n",
       " 23: 'D:/Computer Vision Masterclass/Face recognition/yalefaces/train\\\\subject03.sleepy.gif',\n",
       " 24: 'D:/Computer Vision Masterclass/Face recognition/yalefaces/train\\\\subject03.surprised.gif',\n",
       " 25: 'D:/Computer Vision Masterclass/Face recognition/yalefaces/train\\\\subject03.wink.gif',\n",
       " 26: 'D:/Computer Vision Masterclass/Face recognition/yalefaces/train\\\\subject04.centerlight.gif',\n",
       " 27: 'D:/Computer Vision Masterclass/Face recognition/yalefaces/train\\\\subject04.glasses.gif',\n",
       " 28: 'D:/Computer Vision Masterclass/Face recognition/yalefaces/train\\\\subject04.happy.gif',\n",
       " 29: 'D:/Computer Vision Masterclass/Face recognition/yalefaces/train\\\\subject04.noglasses.gif',\n",
       " 30: 'D:/Computer Vision Masterclass/Face recognition/yalefaces/train\\\\subject04.normal.gif',\n",
       " 31: 'D:/Computer Vision Masterclass/Face recognition/yalefaces/train\\\\subject04.rightlight.gif',\n",
       " 32: 'D:/Computer Vision Masterclass/Face recognition/yalefaces/train\\\\subject04.sad.gif',\n",
       " 33: 'D:/Computer Vision Masterclass/Face recognition/yalefaces/train\\\\subject04.sleepy.gif',\n",
       " 34: 'D:/Computer Vision Masterclass/Face recognition/yalefaces/train\\\\subject04.wink.gif',\n",
       " 35: 'D:/Computer Vision Masterclass/Face recognition/yalefaces/train\\\\subject05.centerlight.gif',\n",
       " 36: 'D:/Computer Vision Masterclass/Face recognition/yalefaces/train\\\\subject05.glasses.gif',\n",
       " 37: 'D:/Computer Vision Masterclass/Face recognition/yalefaces/train\\\\subject05.happy.gif',\n",
       " 38: 'D:/Computer Vision Masterclass/Face recognition/yalefaces/train\\\\subject05.leftlight.gif',\n",
       " 39: 'D:/Computer Vision Masterclass/Face recognition/yalefaces/train\\\\subject05.noglasses.gif',\n",
       " 40: 'D:/Computer Vision Masterclass/Face recognition/yalefaces/train\\\\subject05.normal.gif',\n",
       " 41: 'D:/Computer Vision Masterclass/Face recognition/yalefaces/train\\\\subject05.sad.gif',\n",
       " 42: 'D:/Computer Vision Masterclass/Face recognition/yalefaces/train\\\\subject05.wink.gif',\n",
       " 43: 'D:/Computer Vision Masterclass/Face recognition/yalefaces/train\\\\subject06.centerlight.gif',\n",
       " 44: 'D:/Computer Vision Masterclass/Face recognition/yalefaces/train\\\\subject06.glasses.gif',\n",
       " 45: 'D:/Computer Vision Masterclass/Face recognition/yalefaces/train\\\\subject06.noglasses.gif',\n",
       " 46: 'D:/Computer Vision Masterclass/Face recognition/yalefaces/train\\\\subject06.normal.gif',\n",
       " 47: 'D:/Computer Vision Masterclass/Face recognition/yalefaces/train\\\\subject06.rightlight.gif',\n",
       " 48: 'D:/Computer Vision Masterclass/Face recognition/yalefaces/train\\\\subject06.sad.gif',\n",
       " 49: 'D:/Computer Vision Masterclass/Face recognition/yalefaces/train\\\\subject06.sleepy.gif',\n",
       " 50: 'D:/Computer Vision Masterclass/Face recognition/yalefaces/train\\\\subject06.surprised.gif',\n",
       " 51: 'D:/Computer Vision Masterclass/Face recognition/yalefaces/train\\\\subject06.wink.gif',\n",
       " 52: 'D:/Computer Vision Masterclass/Face recognition/yalefaces/train\\\\subject07.centerlight.gif',\n",
       " 53: 'D:/Computer Vision Masterclass/Face recognition/yalefaces/train\\\\subject07.glasses.gif',\n",
       " 54: 'D:/Computer Vision Masterclass/Face recognition/yalefaces/train\\\\subject07.noglasses.gif',\n",
       " 55: 'D:/Computer Vision Masterclass/Face recognition/yalefaces/train\\\\subject07.normal.gif',\n",
       " 56: 'D:/Computer Vision Masterclass/Face recognition/yalefaces/train\\\\subject07.rightlight.gif',\n",
       " 57: 'D:/Computer Vision Masterclass/Face recognition/yalefaces/train\\\\subject07.sad.gif',\n",
       " 58: 'D:/Computer Vision Masterclass/Face recognition/yalefaces/train\\\\subject07.sleepy.gif',\n",
       " 59: 'D:/Computer Vision Masterclass/Face recognition/yalefaces/train\\\\subject07.surprised.gif',\n",
       " 60: 'D:/Computer Vision Masterclass/Face recognition/yalefaces/train\\\\subject07.wink.gif',\n",
       " 61: 'D:/Computer Vision Masterclass/Face recognition/yalefaces/train\\\\subject08.centerlight.gif',\n",
       " 62: 'D:/Computer Vision Masterclass/Face recognition/yalefaces/train\\\\subject08.glasses.gif',\n",
       " 63: 'D:/Computer Vision Masterclass/Face recognition/yalefaces/train\\\\subject08.happy.gif',\n",
       " 64: 'D:/Computer Vision Masterclass/Face recognition/yalefaces/train\\\\subject08.leftlight.gif',\n",
       " 65: 'D:/Computer Vision Masterclass/Face recognition/yalefaces/train\\\\subject08.noglasses.gif',\n",
       " 66: 'D:/Computer Vision Masterclass/Face recognition/yalefaces/train\\\\subject08.sad.gif',\n",
       " 67: 'D:/Computer Vision Masterclass/Face recognition/yalefaces/train\\\\subject08.sleepy.gif',\n",
       " 68: 'D:/Computer Vision Masterclass/Face recognition/yalefaces/train\\\\subject08.surprised.gif',\n",
       " 69: 'D:/Computer Vision Masterclass/Face recognition/yalefaces/train\\\\subject08.wink.gif',\n",
       " 70: 'D:/Computer Vision Masterclass/Face recognition/yalefaces/train\\\\subject09.centerlight.gif',\n",
       " 71: 'D:/Computer Vision Masterclass/Face recognition/yalefaces/train\\\\subject09.glasses.gif',\n",
       " 72: 'D:/Computer Vision Masterclass/Face recognition/yalefaces/train\\\\subject09.happy.gif',\n",
       " 73: 'D:/Computer Vision Masterclass/Face recognition/yalefaces/train\\\\subject09.leftlight.gif',\n",
       " 74: 'D:/Computer Vision Masterclass/Face recognition/yalefaces/train\\\\subject09.noglasses.gif',\n",
       " 75: 'D:/Computer Vision Masterclass/Face recognition/yalefaces/train\\\\subject09.normal.gif',\n",
       " 76: 'D:/Computer Vision Masterclass/Face recognition/yalefaces/train\\\\subject09.sleepy.gif',\n",
       " 77: 'D:/Computer Vision Masterclass/Face recognition/yalefaces/train\\\\subject09.surprised.gif',\n",
       " 78: 'D:/Computer Vision Masterclass/Face recognition/yalefaces/train\\\\subject09.wink.gif',\n",
       " 79: 'D:/Computer Vision Masterclass/Face recognition/yalefaces/train\\\\subject10.glasses.gif',\n",
       " 80: 'D:/Computer Vision Masterclass/Face recognition/yalefaces/train\\\\subject10.happy.gif',\n",
       " 81: 'D:/Computer Vision Masterclass/Face recognition/yalefaces/train\\\\subject10.leftlight.gif',\n",
       " 82: 'D:/Computer Vision Masterclass/Face recognition/yalefaces/train\\\\subject10.noglasses.gif',\n",
       " 83: 'D:/Computer Vision Masterclass/Face recognition/yalefaces/train\\\\subject10.normal.gif',\n",
       " 84: 'D:/Computer Vision Masterclass/Face recognition/yalefaces/train\\\\subject10.rightlight.gif',\n",
       " 85: 'D:/Computer Vision Masterclass/Face recognition/yalefaces/train\\\\subject10.sleepy.gif',\n",
       " 86: 'D:/Computer Vision Masterclass/Face recognition/yalefaces/train\\\\subject10.surprised.gif',\n",
       " 87: 'D:/Computer Vision Masterclass/Face recognition/yalefaces/train\\\\subject10.wink.gif',\n",
       " 88: 'D:/Computer Vision Masterclass/Face recognition/yalefaces/train\\\\subject11.centerlight.gif',\n",
       " 89: 'D:/Computer Vision Masterclass/Face recognition/yalefaces/train\\\\subject11.leftlight.gif',\n",
       " 90: 'D:/Computer Vision Masterclass/Face recognition/yalefaces/train\\\\subject11.noglasses.gif',\n",
       " 91: 'D:/Computer Vision Masterclass/Face recognition/yalefaces/train\\\\subject11.normal.gif',\n",
       " 92: 'D:/Computer Vision Masterclass/Face recognition/yalefaces/train\\\\subject11.sad.gif',\n",
       " 93: 'D:/Computer Vision Masterclass/Face recognition/yalefaces/train\\\\subject11.sleepy.gif',\n",
       " 94: 'D:/Computer Vision Masterclass/Face recognition/yalefaces/train\\\\subject11.surprised.gif',\n",
       " 95: 'D:/Computer Vision Masterclass/Face recognition/yalefaces/train\\\\subject11.wink.gif',\n",
       " 96: 'D:/Computer Vision Masterclass/Face recognition/yalefaces/train\\\\subject12.centerlight.gif',\n",
       " 97: 'D:/Computer Vision Masterclass/Face recognition/yalefaces/train\\\\subject12.glasses.gif',\n",
       " 98: 'D:/Computer Vision Masterclass/Face recognition/yalefaces/train\\\\subject12.happy.gif',\n",
       " 99: 'D:/Computer Vision Masterclass/Face recognition/yalefaces/train\\\\subject12.leftlight.gif',\n",
       " 100: 'D:/Computer Vision Masterclass/Face recognition/yalefaces/train\\\\subject12.noglasses.gif',\n",
       " 101: 'D:/Computer Vision Masterclass/Face recognition/yalefaces/train\\\\subject12.sad.gif',\n",
       " 102: 'D:/Computer Vision Masterclass/Face recognition/yalefaces/train\\\\subject12.sleepy.gif',\n",
       " 103: 'D:/Computer Vision Masterclass/Face recognition/yalefaces/train\\\\subject12.surprised.gif',\n",
       " 104: 'D:/Computer Vision Masterclass/Face recognition/yalefaces/train\\\\subject12.wink.gif',\n",
       " 105: 'D:/Computer Vision Masterclass/Face recognition/yalefaces/train\\\\subject13.centerlight.gif',\n",
       " 106: 'D:/Computer Vision Masterclass/Face recognition/yalefaces/train\\\\subject13.glasses.gif',\n",
       " 107: 'D:/Computer Vision Masterclass/Face recognition/yalefaces/train\\\\subject13.happy.gif',\n",
       " 108: 'D:/Computer Vision Masterclass/Face recognition/yalefaces/train\\\\subject13.leftlight.gif',\n",
       " 109: 'D:/Computer Vision Masterclass/Face recognition/yalefaces/train\\\\subject13.noglasses.gif',\n",
       " 110: 'D:/Computer Vision Masterclass/Face recognition/yalefaces/train\\\\subject13.normal.gif',\n",
       " 111: 'D:/Computer Vision Masterclass/Face recognition/yalefaces/train\\\\subject13.rightlight.gif',\n",
       " 112: 'D:/Computer Vision Masterclass/Face recognition/yalefaces/train\\\\subject13.surprised.gif',\n",
       " 113: 'D:/Computer Vision Masterclass/Face recognition/yalefaces/train\\\\subject13.wink.gif',\n",
       " 114: 'D:/Computer Vision Masterclass/Face recognition/yalefaces/train\\\\subject14.centerlight.gif',\n",
       " 115: 'D:/Computer Vision Masterclass/Face recognition/yalefaces/train\\\\subject14.glasses.gif',\n",
       " 116: 'D:/Computer Vision Masterclass/Face recognition/yalefaces/train\\\\subject14.happy.gif',\n",
       " 117: 'D:/Computer Vision Masterclass/Face recognition/yalefaces/train\\\\subject14.leftlight.gif',\n",
       " 118: 'D:/Computer Vision Masterclass/Face recognition/yalefaces/train\\\\subject14.noglasses.gif',\n",
       " 119: 'D:/Computer Vision Masterclass/Face recognition/yalefaces/train\\\\subject14.rightlight.gif',\n",
       " 120: 'D:/Computer Vision Masterclass/Face recognition/yalefaces/train\\\\subject14.sleepy.gif',\n",
       " 121: 'D:/Computer Vision Masterclass/Face recognition/yalefaces/train\\\\subject14.surprised.gif',\n",
       " 122: 'D:/Computer Vision Masterclass/Face recognition/yalefaces/train\\\\subject14.wink.gif',\n",
       " 123: 'D:/Computer Vision Masterclass/Face recognition/yalefaces/train\\\\subject15.centerlight.gif',\n",
       " 124: 'D:/Computer Vision Masterclass/Face recognition/yalefaces/train\\\\subject15.glasses.gif',\n",
       " 125: 'D:/Computer Vision Masterclass/Face recognition/yalefaces/train\\\\subject15.happy.gif',\n",
       " 126: 'D:/Computer Vision Masterclass/Face recognition/yalefaces/train\\\\subject15.leftlight.gif',\n",
       " 127: 'D:/Computer Vision Masterclass/Face recognition/yalefaces/train\\\\subject15.noglasses.gif',\n",
       " 128: 'D:/Computer Vision Masterclass/Face recognition/yalefaces/train\\\\subject15.normal.gif',\n",
       " 129: 'D:/Computer Vision Masterclass/Face recognition/yalefaces/train\\\\subject15.sleepy.gif',\n",
       " 130: 'D:/Computer Vision Masterclass/Face recognition/yalefaces/train\\\\subject15.surprised.gif',\n",
       " 131: 'D:/Computer Vision Masterclass/Face recognition/yalefaces/train\\\\subject15.wink.gif'}"
      ]
     },
     "execution_count": 78,
     "metadata": {},
     "output_type": "execute_result"
    }
   ],
   "source": [
    "index"
   ]
  },
  {
   "cell_type": "markdown",
   "metadata": {},
   "source": [
    "## Calculating Distance between Faces"
   ]
  },
  {
   "cell_type": "code",
   "execution_count": 79,
   "metadata": {},
   "outputs": [
    {
     "data": {
      "text/plain": [
       "array([-0.13089484,  0.06601417, -0.02609954,  0.01518748, -0.08285977,\n",
       "       -0.00807517, -0.01644151, -0.09620234,  0.06063025, -0.08298973,\n",
       "        0.11774596, -0.12843287, -0.32784295, -0.07286331, -0.01964053,\n",
       "        0.12144506, -0.07245643, -0.11688149, -0.14968576, -0.10792908,\n",
       "        0.04402579,  0.02399734,  0.01140992, -0.01579552, -0.14033128,\n",
       "       -0.31560978, -0.04343859, -0.06159711, -0.02527868, -0.07731017,\n",
       "       -0.04519707,  0.04061317, -0.28199843, -0.11886621, -0.00677378,\n",
       "        0.02211459, -0.01191676, -0.01376762,  0.17890418,  0.02891739,\n",
       "       -0.13527845,  0.02868937,  0.10408973,  0.23670512,  0.17303771,\n",
       "        0.09127481, -0.07478257, -0.02238322,  0.10350744, -0.34444627,\n",
       "        0.0748964 ,  0.12572886,  0.07621396,  0.03156224,  0.11269987,\n",
       "       -0.06755865, -0.01281096,  0.09152316, -0.15773673,  0.09498625,\n",
       "        0.09039833, -0.0467021 , -0.07695109, -0.11126858,  0.19781016,\n",
       "        0.10309512, -0.07884996, -0.04906273,  0.19306634, -0.13287537,\n",
       "       -0.04344165, -0.0055914 , -0.02450085, -0.14210664, -0.339845  ,\n",
       "        0.09690906,  0.3530862 ,  0.18833193, -0.16419797, -0.01154808,\n",
       "       -0.04268003, -0.01258719,  0.09228389, -0.02622464, -0.05756664,\n",
       "       -0.07477108, -0.05645325,  0.06085951,  0.21201132,  0.0146837 ,\n",
       "       -0.04757012,  0.24304409,  0.00656475,  0.00942388,  0.03211789,\n",
       "        0.06149684, -0.14032045, -0.11458024, -0.17052449,  0.01014782,\n",
       "        0.11362421, -0.09281435,  0.01862557,  0.18868251, -0.10286739,\n",
       "        0.0833017 , -0.06383545, -0.04549053,  0.00335272,  0.03098111,\n",
       "       -0.1121126 , -0.00457715,  0.04737522, -0.17957783,  0.18525079,\n",
       "        0.10930453, -0.04124272,  0.04822062,  0.07724209,  0.03093158,\n",
       "        0.02061248,  0.04112854, -0.19652866, -0.22319679,  0.09384398,\n",
       "        0.01357925,  0.03328808,  0.06968085])"
      ]
     },
     "execution_count": 79,
     "metadata": {},
     "output_type": "execute_result"
    }
   ],
   "source": [
    "face_descriptors[131]"
   ]
  },
  {
   "cell_type": "code",
   "execution_count": 80,
   "metadata": {},
   "outputs": [
    {
     "data": {
      "text/plain": [
       "(132, 128)"
      ]
     },
     "execution_count": 80,
     "metadata": {},
     "output_type": "execute_result"
    }
   ],
   "source": [
    "face_descriptors.shape"
   ]
  },
  {
   "cell_type": "code",
   "execution_count": 81,
   "metadata": {},
   "outputs": [
    {
     "data": {
      "text/plain": [
       "0.0"
      ]
     },
     "execution_count": 81,
     "metadata": {},
     "output_type": "execute_result"
    }
   ],
   "source": [
    "np.linalg.norm(face_descriptors[131]-face_descriptors[131])"
   ]
  },
  {
   "cell_type": "code",
   "execution_count": 82,
   "metadata": {},
   "outputs": [
    {
     "data": {
      "text/plain": [
       "0.4668626745788249"
      ]
     },
     "execution_count": 82,
     "metadata": {},
     "output_type": "execute_result"
    }
   ],
   "source": [
    "np.linalg.norm(face_descriptors[131]-face_descriptors[130])"
   ]
  },
  {
   "cell_type": "code",
   "execution_count": 83,
   "metadata": {},
   "outputs": [
    {
     "data": {
      "text/plain": [
       "0.3602211799378316"
      ]
     },
     "execution_count": 83,
     "metadata": {},
     "output_type": "execute_result"
    }
   ],
   "source": [
    "np.linalg.norm(face_descriptors[131]-face_descriptors[129])"
   ]
  },
  {
   "cell_type": "code",
   "execution_count": 84,
   "metadata": {},
   "outputs": [
    {
     "data": {
      "text/plain": [
       "0.39752126447371006"
      ]
     },
     "execution_count": 84,
     "metadata": {},
     "output_type": "execute_result"
    }
   ],
   "source": [
    "np.linalg.norm(face_descriptors[131]-face_descriptors[128])"
   ]
  },
  {
   "cell_type": "code",
   "execution_count": 50,
   "metadata": {},
   "outputs": [
    {
     "data": {
      "text/plain": [
       "0.19587220668565344"
      ]
     },
     "execution_count": 50,
     "metadata": {},
     "output_type": "execute_result"
    }
   ],
   "source": [
    "np.linalg.norm(face_descriptors[128]-face_descriptors[127])"
   ]
  },
  {
   "cell_type": "code",
   "execution_count": 89,
   "metadata": {},
   "outputs": [
    {
     "data": {
      "text/plain": [
       "array([0.        , 0.48529985, 0.4365671 , 0.42120189, 0.50319712,\n",
       "       0.51681464, 0.5242326 , 0.55398858, 0.62192747, 0.6938346 ,\n",
       "       0.62968846, 0.62968846, 0.6155493 , 0.62593546, 0.64388539,\n",
       "       0.63271039, 0.67527166, 0.77279504, 0.75564419, 0.74931327,\n",
       "       0.74931327, 0.76444668, 0.72056515, 0.74479782, 0.71511277,\n",
       "       0.72349147, 0.90567606, 0.78769101, 0.83595493, 0.83646824,\n",
       "       0.84154234, 0.84936199, 0.84154234, 0.8673923 , 0.83960697,\n",
       "       0.72491307, 0.75067291, 0.72758432, 0.71432075, 0.73284499,\n",
       "       0.75332383, 0.69960032, 0.7496027 , 0.76809434, 0.70825442,\n",
       "       0.80190689, 0.80190689, 0.82844469, 0.74388606, 0.79361107,\n",
       "       0.7850793 , 0.76359456, 0.83135342, 0.73520713, 0.84115305,\n",
       "       0.84115305, 0.86619687, 0.82327112, 0.8360246 , 0.80829907,\n",
       "       0.73848121, 0.76031143, 0.76122769, 0.73804018, 0.76561859,\n",
       "       0.88121149, 0.7934771 , 0.81216403, 0.6546225 , 0.78018246,\n",
       "       0.72259479, 0.63704873, 0.7361221 , 0.73488932, 0.7150501 ,\n",
       "       0.7150501 , 0.71482646, 0.70013184, 0.72763392, 0.78214953,\n",
       "       0.88074611, 0.89542528, 0.85006281, 0.82486539, 0.84911284,\n",
       "       0.84497986, 0.77503622, 0.86543502, 0.74748994, 0.80095497,\n",
       "       0.70998327, 0.68359046, 0.69242265, 0.70707189, 0.68777216,\n",
       "       0.68503875, 0.73415851, 0.68676192, 0.74993873, 0.751851  ,\n",
       "       0.69284424, 0.71977642, 0.67478665, 0.69259048, 0.69446288,\n",
       "       0.84846407, 0.68084049, 0.64946549, 0.79399645, 0.73875286,\n",
       "       0.73185666, 0.75673201, 0.73338003, 0.68306409, 0.89985952,\n",
       "       0.83043185, 0.84079546, 0.90039535, 0.84264118, 0.87411899,\n",
       "       0.84426758, 0.84115702, 0.88323723, 0.73860303, 0.70811029,\n",
       "       0.74674277, 0.78974253, 0.76353791, 0.74161708, 0.71333756,\n",
       "       0.79091331, 0.74864691])"
      ]
     },
     "execution_count": 89,
     "metadata": {},
     "output_type": "execute_result"
    }
   ],
   "source": [
    "np.linalg.norm(face_descriptors[0] - face_descriptors, axis=1)"
   ]
  },
  {
   "cell_type": "code",
   "execution_count": 88,
   "metadata": {},
   "outputs": [
    {
     "data": {
      "text/plain": [
       "2"
      ]
     },
     "execution_count": 88,
     "metadata": {},
     "output_type": "execute_result"
    }
   ],
   "source": [
    "np.argmin(np.linalg.norm(face_descriptors[0] - face_descriptors[1:], axis=1))"
   ]
  },
  {
   "cell_type": "code",
   "execution_count": 90,
   "metadata": {},
   "outputs": [
    {
     "data": {
      "text/plain": [
       "0.6924226512720698"
      ]
     },
     "execution_count": 90,
     "metadata": {},
     "output_type": "execute_result"
    }
   ],
   "source": [
    "np.linalg.norm(face_descriptors[0] - face_descriptors[1:], axis =1)[91]"
   ]
  },
  {
   "cell_type": "code",
   "execution_count": 92,
   "metadata": {},
   "outputs": [],
   "source": [
    "threshold = 0.5\n",
    "predictions = []\n",
    "expected_outputs = []\n",
    "\n",
    "paths = [os.path.join('D:/Computer Vision Masterclass/Face recognition/yalefaces/test', f) for f in os.listdir('D:/Computer Vision Masterclass/Face recognition/yalefaces/test') ]\n",
    "for path in paths:\n",
    "    image = Image.open(path).convert('RGB')\n",
    "    image_np = np.array(image, 'uint8')\n",
    "    face_detection = face_detector(image_np,1)\n",
    "    for face in face_detection:\n",
    "        points = points_detector(image_np, face)\n",
    "        face_descriptor = face_description_extractor.compute_face_descriptor(image_np, points)\n",
    "        face_descriptor = face_description_extractor.compute_face_descriptor(image_np, points)\n",
    "        face_descriptor = [f for f in face_descriptor]\n",
    "        face_descriptor = np.asarray(face_descriptor, dtype = np.float64)\n",
    "\n",
    "        distances = np.linalg.norm(face_descriptor - face_descriptors , axis=1 )\n",
    "        min_index = np.argmin(distances)\n",
    "        min_distance = distances[min_index]\n",
    "        if min_distance <= threshold:\n",
    "            name_pred = int(os.path.split(index[min_index])[1].split('.')[0].replace('subject', ''))\n",
    "        else:\n",
    "            name_pred = \"Not identified\"\n",
    "\n",
    "        name_real = int(os.path.split(path)[1].split('.')[0].replace('subject', ''))\n",
    "        predictions.append(name_pred)\n",
    "        expected_outputs.append(name_real)\n",
    "        cv2.putText(image_np, \"Pred: \" + str(name_pred), (10, 30), cv2.FONT_HERSHEY_COMPLEX, 1, (0,255,0))\n",
    "        cv2.putText(image_np, \"Exp: \" + str(name_pred), (10, 50), cv2.FONT_HERSHEY_COMPLEX, 1, (0,255,0))\n",
    "    \n",
    "    imshow(image_np)\n",
    "\n",
    "predictions = np.array(predictions)\n",
    "expected_outputs = np.array(expected_outputs)"
   ]
  },
  {
   "cell_type": "code",
   "execution_count": 93,
   "metadata": {},
   "outputs": [
    {
     "data": {
      "text/plain": [
       "array([ 1,  1,  2,  2,  3,  3,  4,  4,  5,  5,  6,  6,  7,  7,  8,  8,  9,\n",
       "        9, 10, 10, 11, 11, 12, 12, 13, 13, 14, 14, 15, 15])"
      ]
     },
     "execution_count": 93,
     "metadata": {},
     "output_type": "execute_result"
    }
   ],
   "source": [
    "predictions"
   ]
  },
  {
   "cell_type": "code",
   "execution_count": 94,
   "metadata": {},
   "outputs": [
    {
     "data": {
      "text/plain": [
       "array([ 1,  1,  2,  2,  3,  3,  4,  4,  5,  5,  6,  6,  7,  7,  8,  8,  9,\n",
       "        9, 10, 10, 11, 11, 12, 12, 13, 13, 14, 14, 15, 15])"
      ]
     },
     "execution_count": 94,
     "metadata": {},
     "output_type": "execute_result"
    }
   ],
   "source": [
    "expected_outputs"
   ]
  },
  {
   "cell_type": "code",
   "execution_count": 95,
   "metadata": {},
   "outputs": [
    {
     "data": {
      "text/plain": [
       "1.0"
      ]
     },
     "execution_count": 95,
     "metadata": {},
     "output_type": "execute_result"
    }
   ],
   "source": [
    "from sklearn.metrics import accuracy_score\n",
    "accuracy_score(expected_outputs, predictions)"
   ]
  },
  {
   "cell_type": "markdown",
   "metadata": {},
   "source": [
    "## Using Webcam"
   ]
  },
  {
   "cell_type": "code",
   "execution_count": 102,
   "metadata": {},
   "outputs": [],
   "source": [
    "path = 'D:/Computer Vision Masterclass/repo/Datasets/jones_gabriel.zip'\n",
    "zip_object = zipfile.ZipFile(file = path, mode ='r')\n",
    "zip_object.extractall('./')\n",
    "zip_object.close()"
   ]
  },
  {
   "cell_type": "code",
   "execution_count": 143,
   "metadata": {},
   "outputs": [],
   "source": [
    "def get_image_data():\n",
    "    paths = [os.path.join('D:/Computer Vision Masterclass/Face recognition/jones_gabriel', f) for f in os.listdir('D:/Computer Vision Masterclass/Face recognition/jones_gabriel')]\n",
    "    #print(paths)\n",
    "    faces = []\n",
    "    ids = []\n",
    "    for path in paths:\n",
    "        #print(path)\n",
    "        image = Image.open(path).convert('L')\n",
    "        image_np =np.array(image, 'uint8')\n",
    "        #print(type(image_np))\n",
    "        id = int(os.path.split(path)[1].split('.')[1])\n",
    "        #print(id)\n",
    "        ids.append(id)\n",
    "        faces.append(image_np)\n",
    "    return np.array(ids), faces\n"
   ]
  },
  {
   "cell_type": "code",
   "execution_count": 144,
   "metadata": {},
   "outputs": [],
   "source": [
    "ids , faces = get_image_data()"
   ]
  },
  {
   "cell_type": "code",
   "execution_count": 145,
   "metadata": {},
   "outputs": [
    {
     "data": {
      "text/plain": [
       "array([1, 1, 1, 1, 1, 1, 1, 1, 1, 1, 1, 1, 1, 1, 1, 1, 1, 1, 1, 1, 1, 1,\n",
       "       1, 1, 1, 2, 2, 2, 2, 2, 2, 2, 2, 2, 2, 2, 2, 2, 2, 2, 2, 2, 2, 2,\n",
       "       2, 2, 2, 2, 2, 2])"
      ]
     },
     "execution_count": 145,
     "metadata": {},
     "output_type": "execute_result"
    }
   ],
   "source": [
    "ids"
   ]
  },
  {
   "cell_type": "code",
   "execution_count": 146,
   "metadata": {},
   "outputs": [
    {
     "data": {
      "text/plain": [
       "[array([[26, 30, 33, ..., 65, 64, 61],\n",
       "        [29, 32, 34, ..., 64, 64, 62],\n",
       "        [31, 33, 35, ..., 61, 62, 61],\n",
       "        ...,\n",
       "        [32, 35, 34, ..., 78, 79, 80],\n",
       "        [31, 36, 37, ..., 78, 80, 81],\n",
       "        [30, 36, 38, ..., 78, 80, 82]], dtype=uint8),\n",
       " array([[ 37,  38,  39, ...,  79,  74,  69],\n",
       "        [ 37,  38,  40, ...,  86,  86,  82],\n",
       "        [ 38,  39,  41, ...,  91,  91,  87],\n",
       "        ...,\n",
       "        [ 40,  42,  43, ..., 191, 192, 192],\n",
       "        [ 38,  41,  42, ..., 191, 191, 191],\n",
       "        [ 38,  41,  43, ..., 190, 190, 190]], dtype=uint8),\n",
       " array([[16, 17, 18, ..., 88, 93, 91],\n",
       "        [17, 17, 19, ..., 84, 93, 95],\n",
       "        [18, 18, 19, ..., 80, 94, 99],\n",
       "        ...,\n",
       "        [26, 25, 25, ..., 43, 49, 56],\n",
       "        [25, 24, 24, ..., 43, 46, 49],\n",
       "        [25, 24, 23, ..., 44, 45, 45]], dtype=uint8),\n",
       " array([[ 19,  19,  20, ...,  93,  95,  97],\n",
       "        [ 20,  20,  21, ...,  95,  96,  98],\n",
       "        [ 20,  21,  22, ...,  97,  98,  99],\n",
       "        ...,\n",
       "        [ 22,  22,  23, ...,  40,  65, 127],\n",
       "        [ 21,  20,  22, ...,  33,  57, 110],\n",
       "        [ 20,  20,  22, ...,  26,  46,  90]], dtype=uint8),\n",
       " array([[ 20,  22,  23, ...,  71,  64,  61],\n",
       "        [ 20,  22,  23, ...,  77,  70,  66],\n",
       "        [ 20,  22,  23, ...,  81,  80,  80],\n",
       "        ...,\n",
       "        [ 30,  28,  28, ..., 190, 190, 189],\n",
       "        [ 31,  29,  29, ..., 190, 190, 189],\n",
       "        [ 33,  31,  30, ..., 190, 189, 190]], dtype=uint8),\n",
       " array([[ 25,  25,  25, ..., 100,  99, 101],\n",
       "        [ 25,  25,  26, ..., 111, 105, 103],\n",
       "        [ 24,  25,  26, ..., 111, 108, 107],\n",
       "        ...,\n",
       "        [ 26,  26,  29, ..., 104, 142, 102],\n",
       "        [ 25,  25,  29, ..., 110, 139,  94],\n",
       "        [ 25,  25,  28, ..., 114, 137,  89]], dtype=uint8),\n",
       " array([[ 19,  19,  20, ...,  90,  96, 100],\n",
       "        [ 19,  20,  21, ...,  85,  94, 101],\n",
       "        [ 20,  21,  22, ...,  79,  93, 104],\n",
       "        ...,\n",
       "        [ 16,  18,  20, ...,  49,  64,  58],\n",
       "        [ 17,  19,  21, ...,  46,  59,  52],\n",
       "        [ 18,  20,  22, ...,  41,  54,  47]], dtype=uint8),\n",
       " array([[17, 18, 17, ..., 79, 66, 52],\n",
       "        [16, 17, 16, ..., 82, 69, 54],\n",
       "        [16, 16, 16, ..., 82, 70, 55],\n",
       "        ...,\n",
       "        [15, 15, 15, ..., 71, 62, 44],\n",
       "        [15, 14, 14, ..., 69, 56, 38],\n",
       "        [15, 15, 14, ..., 63, 46, 27]], dtype=uint8),\n",
       " array([[16, 17, 19, ..., 77, 81, 84],\n",
       "        [17, 17, 19, ..., 76, 79, 81],\n",
       "        [17, 17, 18, ..., 75, 78, 78],\n",
       "        ...,\n",
       "        [18, 18, 18, ..., 36, 51, 75],\n",
       "        [19, 18, 18, ..., 35, 54, 83],\n",
       "        [17, 18, 18, ..., 31, 52, 83]], dtype=uint8),\n",
       " array([[17, 17, 17, ..., 78, 82, 95],\n",
       "        [16, 16, 17, ..., 81, 83, 92],\n",
       "        [15, 15, 16, ..., 81, 82, 89],\n",
       "        ...,\n",
       "        [19, 19, 18, ..., 43, 40, 63],\n",
       "        [19, 18, 17, ..., 43, 40, 68],\n",
       "        [18, 17, 16, ..., 46, 43, 73]], dtype=uint8),\n",
       " array([[ 19,  21,  23, ..., 110, 108, 107],\n",
       "        [ 19,  21,  23, ..., 104, 103, 103],\n",
       "        [ 19,  21,  23, ..., 100,  99, 100],\n",
       "        ...,\n",
       "        [ 23,  26,  27, ...,  81,  79,  99],\n",
       "        [ 22,  25,  26, ...,  79,  71,  85],\n",
       "        [ 22,  24,  25, ...,  81,  69,  78]], dtype=uint8),\n",
       " array([[26, 28, 32, ..., 73, 77, 81],\n",
       "        [26, 28, 31, ..., 77, 76, 76],\n",
       "        [25, 27, 31, ..., 83, 77, 74],\n",
       "        ...,\n",
       "        [22, 22, 22, ..., 86, 75, 70],\n",
       "        [22, 22, 22, ..., 85, 75, 70],\n",
       "        [21, 21, 21, ..., 82, 73, 69]], dtype=uint8),\n",
       " array([[ 18,  21,  22, ..., 107, 109, 112],\n",
       "        [ 18,  21,  22, ..., 103, 106, 111],\n",
       "        [ 17,  21,  22, ..., 103, 106, 112],\n",
       "        ...,\n",
       "        [ 23,  29,  35, ...,  86, 105, 106],\n",
       "        [ 23,  29,  34, ...,  79,  95,  97],\n",
       "        [ 23,  28,  33, ...,  67,  82,  85]], dtype=uint8),\n",
       " array([[ 17,  17,  18, ..., 129, 114, 102],\n",
       "        [ 17,  17,  18, ..., 128, 120, 109],\n",
       "        [ 16,  17,  18, ..., 123, 123, 115],\n",
       "        ...,\n",
       "        [ 45,  44,  43, ...,  75,  68,  64],\n",
       "        [ 45,  45,  44, ...,  71,  66,  64],\n",
       "        [ 46,  46,  45, ...,  68,  64,  64]], dtype=uint8),\n",
       " array([[ 14,  14,  15, ...,  76,  79,  79],\n",
       "        [ 14,  14,  14, ...,  71,  77,  79],\n",
       "        [ 14,  14,  14, ...,  66,  74,  79],\n",
       "        ...,\n",
       "        [ 21,  22,  20, ...,  57, 105, 180],\n",
       "        [ 19,  20,  20, ...,  49,  92, 169],\n",
       "        [ 18,  19,  19, ...,  43,  79, 154]], dtype=uint8),\n",
       " array([[16, 17, 18, ..., 87, 96, 98],\n",
       "        [16, 17, 18, ..., 85, 93, 96],\n",
       "        [16, 17, 18, ..., 84, 93, 96],\n",
       "        ...,\n",
       "        [17, 17, 18, ..., 23, 25, 30],\n",
       "        [17, 17, 18, ..., 27, 28, 35],\n",
       "        [16, 17, 18, ..., 35, 32, 39]], dtype=uint8),\n",
       " array([[14, 14, 16, ..., 78, 85, 89],\n",
       "        [15, 15, 16, ..., 77, 83, 86],\n",
       "        [16, 16, 16, ..., 77, 82, 81],\n",
       "        ...,\n",
       "        [17, 17, 16, ..., 44, 54, 87],\n",
       "        [18, 19, 18, ..., 43, 54, 86],\n",
       "        [18, 20, 20, ..., 40, 52, 83]], dtype=uint8),\n",
       " array([[ 16,  15,  15, ..., 102, 110, 110],\n",
       "        [ 15,  15,  16, ...,  98, 104, 103],\n",
       "        [ 16,  16,  17, ...,  96, 100, 100],\n",
       "        ...,\n",
       "        [ 19,  19,  19, ...,  62, 123, 176],\n",
       "        [ 19,  19,  19, ...,  59, 114, 160],\n",
       "        [ 19,  19,  19, ...,  60, 108, 142]], dtype=uint8),\n",
       " array([[107,  76,  34, ..., 154, 156, 160],\n",
       "        [105,  75,  32, ...,  85,  90,  91],\n",
       "        [105,  76,  33, ...,  55,  54,  57],\n",
       "        ...,\n",
       "        [ 14,  14,  14, ...,  63,  65,  67],\n",
       "        [ 15,  15,  15, ...,  66,  69,  71],\n",
       "        [ 15,  15,  15, ...,  66,  69,  71]], dtype=uint8),\n",
       " array([[ 26,  28,  31, ..., 105, 108, 111],\n",
       "        [ 26,  28,  32, ..., 104, 106, 110],\n",
       "        [ 26,  29,  33, ..., 106, 108, 112],\n",
       "        ...,\n",
       "        [ 28,  27,  27, ...,  93,  94,  94],\n",
       "        [ 28,  27,  27, ...,  93,  94,  95],\n",
       "        [ 30,  29,  28, ...,  93,  94,  95]], dtype=uint8),\n",
       " array([[25, 23, 21, ..., 44, 43, 43],\n",
       "        [24, 22, 21, ..., 44, 44, 43],\n",
       "        [23, 22, 21, ..., 45, 44, 43],\n",
       "        ...,\n",
       "        [39, 39, 39, ..., 66, 62, 61],\n",
       "        [38, 38, 38, ..., 63, 61, 60],\n",
       "        [37, 37, 37, ..., 60, 59, 60]], dtype=uint8),\n",
       " array([[166, 165, 164, ...,  24,  25,  25],\n",
       "        [166, 165, 165, ...,  24,  24,  24],\n",
       "        [166, 165, 165, ...,  24,  25,  24],\n",
       "        ...,\n",
       "        [ 13,  14,  14, ...,  85,  85,  80],\n",
       "        [ 13,  13,  14, ...,  87,  85,  79],\n",
       "        [ 12,  13,  13, ...,  86,  83,  76]], dtype=uint8),\n",
       " array([[ 36,  34,  33, ...,  43,  53,  60],\n",
       "        [ 35,  34,  35, ...,  43,  53,  63],\n",
       "        [ 39,  38,  39, ...,  45,  53,  67],\n",
       "        ...,\n",
       "        [ 46,  45,  45, ..., 129, 113,  87],\n",
       "        [ 47,  46,  45, ..., 113,  92,  68],\n",
       "        [ 46,  45,  44, ...,  94,  70,  50]], dtype=uint8),\n",
       " array([[16, 17, 18, ..., 66, 60, 50],\n",
       "        [16, 16, 17, ..., 69, 65, 54],\n",
       "        [15, 16, 17, ..., 70, 67, 56],\n",
       "        ...,\n",
       "        [26, 23, 19, ..., 33, 35, 35],\n",
       "        [23, 20, 18, ..., 33, 34, 34],\n",
       "        [21, 19, 17, ..., 33, 34, 33]], dtype=uint8),\n",
       " array([[ 44,  43,  42, ...,  30,  31,  32],\n",
       "        [ 44,  42,  41, ...,  28,  30,  31],\n",
       "        [ 45,  42,  41, ...,  27,  29,  30],\n",
       "        ...,\n",
       "        [  9,   9,   9, ..., 121,  99,  97],\n",
       "        [  9,  10,   9, ..., 108,  90,  94],\n",
       "        [ 10,  10,   9, ...,  98,  83,  92]], dtype=uint8),\n",
       " array([[ 18,  20,  21, ..., 139, 140, 142],\n",
       "        [ 18,  18,  19, ..., 140, 140, 142],\n",
       "        [ 18,  17,  17, ..., 140, 140, 140],\n",
       "        ...,\n",
       "        [107, 108, 108, ..., 132, 132, 131],\n",
       "        [108, 108, 108, ..., 133, 132, 131],\n",
       "        [108, 108, 107, ..., 133, 133, 132]], dtype=uint8),\n",
       " array([[ 24,  22,  22, ...,  92,  93,  95],\n",
       "        [ 24,  22,  22, ...,  91,  92,  94],\n",
       "        [ 25,  23,  23, ...,  91,  92,  94],\n",
       "        ...,\n",
       "        [131, 131, 131, ..., 115,  95,  91],\n",
       "        [130, 130, 131, ..., 112,  94,  91],\n",
       "        [128, 129, 129, ..., 109,  92,  90]], dtype=uint8),\n",
       " array([[ 23,  23,  23, ..., 157, 159, 161],\n",
       "        [ 22,  23,  23, ..., 157, 158, 159],\n",
       "        [ 22,  22,  22, ..., 158, 159, 159],\n",
       "        ...,\n",
       "        [126, 126, 126, ..., 152, 152, 152],\n",
       "        [125, 126, 126, ..., 152, 153, 153],\n",
       "        [125, 126, 126, ..., 152, 152, 153]], dtype=uint8),\n",
       " array([[ 22,  20,  18, ..., 150, 151, 152],\n",
       "        [ 21,  20,  19, ..., 151, 151, 151],\n",
       "        [ 22,  22,  22, ..., 152, 152, 151],\n",
       "        ...,\n",
       "        [116, 117, 117, ..., 144, 144, 144],\n",
       "        [116, 117, 119, ..., 144, 144, 144],\n",
       "        [115, 117, 120, ..., 144, 144, 145]], dtype=uint8),\n",
       " array([[ 87,  90,  92, ...,  49,  51,  51],\n",
       "        [ 86,  87,  88, ...,  49,  52,  52],\n",
       "        [ 86,  88,  90, ...,  48,  52,  52],\n",
       "        ...,\n",
       "        [105, 105, 107, ..., 139, 139, 139],\n",
       "        [103, 104, 105, ..., 138, 139, 139],\n",
       "        [103, 103, 104, ..., 138, 138, 139]], dtype=uint8),\n",
       " array([[ 89,  85,  87, ...,  48,  50,  49],\n",
       "        [ 85,  82,  85, ...,  47,  51,  51],\n",
       "        [ 83,  82,  83, ...,  42,  47,  50],\n",
       "        ...,\n",
       "        [110, 109, 108, ..., 140, 139, 139],\n",
       "        [110, 108, 107, ..., 140, 138, 138],\n",
       "        [107, 106, 105, ..., 142, 140, 139]], dtype=uint8),\n",
       " array([[ 21,  20,  20, ...,  36,  37,  36],\n",
       "        [ 21,  20,  20, ...,  34,  35,  34],\n",
       "        [ 21,  20,  20, ...,  33,  34,  34],\n",
       "        ...,\n",
       "        [107, 107, 108, ..., 140, 140, 140],\n",
       "        [105, 106, 107, ..., 140, 140, 140],\n",
       "        [102, 103, 105, ..., 140, 140, 140]], dtype=uint8),\n",
       " array([[ 24,  21,  21, ...,  61,  71,  84],\n",
       "        [ 25,  22,  22, ...,  60,  71,  84],\n",
       "        [ 26,  24,  24, ...,  59,  71,  84],\n",
       "        ...,\n",
       "        [104, 106, 107, ..., 141, 142, 143],\n",
       "        [105, 106, 108, ..., 141, 142, 142],\n",
       "        [105, 106, 108, ..., 140, 140, 140]], dtype=uint8),\n",
       " array([[ 62,  39,  25, ...,  45,  48,  48],\n",
       "        [ 38,  28,  26, ...,  44,  46,  47],\n",
       "        [ 28,  26,  29, ...,  42,  45,  47],\n",
       "        ...,\n",
       "        [108, 107, 108, ..., 142, 142, 141],\n",
       "        [108, 107, 108, ..., 141, 141, 140],\n",
       "        [108, 106, 107, ..., 140, 140, 139]], dtype=uint8),\n",
       " array([[ 26,  27,  29, ...,  62,  66,  68],\n",
       "        [ 26,  26,  26, ...,  60,  66,  68],\n",
       "        [ 25,  25,  24, ...,  60,  66,  68],\n",
       "        ...,\n",
       "        [110, 110, 110, ..., 143, 143, 142],\n",
       "        [111, 111, 110, ..., 143, 142, 140],\n",
       "        [112, 111, 110, ..., 142, 141, 139]], dtype=uint8),\n",
       " array([[ 18,  20,  21, ...,  80,  87,  99],\n",
       "        [ 20,  21,  22, ...,  87, 107, 125],\n",
       "        [ 22,  23,  23, ...,  96, 120, 140],\n",
       "        ...,\n",
       "        [110, 110, 111, ..., 143, 143, 142],\n",
       "        [111, 110, 110, ..., 143, 143, 143],\n",
       "        [109, 109, 109, ..., 143, 143, 143]], dtype=uint8),\n",
       " array([[ 15,  16,  16, ..., 113, 107, 115],\n",
       "        [ 15,  16,  17, ..., 109, 108, 120],\n",
       "        [ 17,  19,  20, ..., 104, 109, 129],\n",
       "        ...,\n",
       "        [107, 107, 106, ..., 141, 139, 138],\n",
       "        [107, 107, 107, ..., 140, 139, 139],\n",
       "        [105, 106, 107, ..., 142, 141, 141]], dtype=uint8),\n",
       " array([[ 21,  20,  19, ..., 148, 148, 148],\n",
       "        [ 19,  19,  19, ..., 149, 148, 148],\n",
       "        [ 17,  18,  18, ..., 149, 148, 148],\n",
       "        ...,\n",
       "        [114, 116, 116, ..., 142, 142, 142],\n",
       "        [113, 115, 115, ..., 141, 142, 142],\n",
       "        [111, 114, 114, ..., 141, 142, 143]], dtype=uint8),\n",
       " array([[ 22,  23,  24, ..., 126, 117, 102],\n",
       "        [ 26,  26,  26, ..., 117, 110,  99],\n",
       "        [ 29,  28,  26, ..., 110, 106, 102],\n",
       "        ...,\n",
       "        [113, 112, 112, ..., 143, 144, 144],\n",
       "        [113, 113, 113, ..., 143, 144, 144],\n",
       "        [115, 115, 115, ..., 143, 143, 143]], dtype=uint8),\n",
       " array([[ 26,  26,  27, ...,  81,  90,  96],\n",
       "        [ 24,  23,  24, ...,  83,  87,  92],\n",
       "        [ 24,  21,  21, ...,  84,  86,  88],\n",
       "        ...,\n",
       "        [112, 112, 111, ..., 143, 142, 143],\n",
       "        [111, 111, 112, ..., 143, 143, 143],\n",
       "        [110, 111, 112, ..., 143, 143, 143]], dtype=uint8),\n",
       " array([[ 24,  23,  22, ...,  67,  72,  77],\n",
       "        [ 23,  22,  22, ...,  67,  73,  78],\n",
       "        [ 23,  23,  22, ...,  68,  74,  79],\n",
       "        ...,\n",
       "        [109, 111, 113, ..., 141, 142, 143],\n",
       "        [113, 113, 114, ..., 141, 143, 143],\n",
       "        [115, 115, 115, ..., 143, 144, 144]], dtype=uint8),\n",
       " array([[ 64,  47,  33, ...,  66,  67,  67],\n",
       "        [ 51,  39,  30, ...,  68,  70,  70],\n",
       "        [ 35,  30,  27, ...,  68,  72,  73],\n",
       "        ...,\n",
       "        [112, 113, 114, ..., 144, 144, 144],\n",
       "        [111, 112, 113, ..., 144, 144, 144],\n",
       "        [111, 112, 112, ..., 143, 144, 144]], dtype=uint8),\n",
       " array([[ 22,  20,  21, ...,  97, 103, 114],\n",
       "        [ 20,  19,  20, ...,  97, 104, 115],\n",
       "        [ 18,  19,  20, ...,  97, 107, 122],\n",
       "        ...,\n",
       "        [113, 116, 116, ..., 144, 145, 145],\n",
       "        [114, 116, 116, ..., 144, 145, 145],\n",
       "        [114, 116, 116, ..., 144, 145, 145]], dtype=uint8),\n",
       " array([[ 82,  81,  82, ..., 118, 120, 124],\n",
       "        [ 80,  80,  80, ..., 120, 122, 124],\n",
       "        [ 79,  82,  80, ..., 122, 124, 123],\n",
       "        ...,\n",
       "        [101, 103, 104, ..., 140, 141, 141],\n",
       "        [101, 102, 103, ..., 139, 140, 140],\n",
       "        [103, 103, 103, ..., 138, 139, 139]], dtype=uint8),\n",
       " array([[ 76,  75,  72, ..., 145, 147, 145],\n",
       "        [ 75,  73,  70, ..., 143, 146, 145],\n",
       "        [ 73,  71,  66, ..., 141, 145, 145],\n",
       "        ...,\n",
       "        [ 99, 100, 102, ..., 138, 138, 137],\n",
       "        [ 99, 101, 103, ..., 138, 138, 138],\n",
       "        [100, 101, 103, ..., 137, 138, 138]], dtype=uint8),\n",
       " array([[ 16,  17,  17, ..., 145, 145, 146],\n",
       "        [ 17,  18,  18, ..., 145, 144, 145],\n",
       "        [ 17,  18,  19, ..., 146, 145, 145],\n",
       "        ...,\n",
       "        [104, 104, 104, ..., 138, 138, 138],\n",
       "        [104, 104, 104, ..., 138, 138, 138],\n",
       "        [105, 105, 105, ..., 138, 138, 138]], dtype=uint8),\n",
       " array([[ 19,  21,  22, ..., 139, 142, 144],\n",
       "        [ 18,  20,  20, ..., 140, 142, 143],\n",
       "        [ 18,  19,  19, ..., 140, 140, 140],\n",
       "        ...,\n",
       "        [100, 100,  99, ..., 135, 136, 137],\n",
       "        [100, 100,  99, ..., 135, 136, 137],\n",
       "        [100,  99,  98, ..., 136, 137, 138]], dtype=uint8),\n",
       " array([[ 18,  21,  22, ..., 131, 146, 146],\n",
       "        [ 19,  20,  21, ..., 129, 147, 151],\n",
       "        [ 19,  19,  18, ..., 112, 136, 152],\n",
       "        ...,\n",
       "        [105, 107, 110, ..., 139, 139, 140],\n",
       "        [107, 108, 110, ..., 139, 138, 139],\n",
       "        [109, 110, 110, ..., 139, 138, 138]], dtype=uint8),\n",
       " array([[ 23,  23,  23, ..., 145, 148, 150],\n",
       "        [ 23,  23,  23, ..., 147, 149, 149],\n",
       "        [ 23,  24,  24, ..., 149, 151, 150],\n",
       "        ...,\n",
       "        [115, 116, 118, ..., 144, 145, 146],\n",
       "        [115, 115, 117, ..., 144, 145, 145],\n",
       "        [116, 114, 115, ..., 143, 144, 144]], dtype=uint8),\n",
       " array([[ 43,  32,  25, ...,  80,  88,  89],\n",
       "        [ 32,  27,  24, ...,  77,  88,  92],\n",
       "        [ 26,  25,  25, ...,  74,  87,  95],\n",
       "        ...,\n",
       "        [120, 121, 124, ..., 154, 153, 152],\n",
       "        [122, 122, 125, ..., 153, 152, 151],\n",
       "        [124, 123, 125, ..., 152, 151, 150]], dtype=uint8)]"
      ]
     },
     "execution_count": 146,
     "metadata": {},
     "output_type": "execute_result"
    }
   ],
   "source": [
    "faces"
   ]
  },
  {
   "cell_type": "code",
   "execution_count": 147,
   "metadata": {},
   "outputs": [],
   "source": [
    "lbph_classifier = cv2.face.LBPHFaceRecognizer_create(radius=3, neighbors = 12, grid_x=9 , grid_y=9)\n",
    "lbph_classifier.train(faces, ids)\n",
    "lbph_classifier.write('lbph_classifier_2.yml')"
   ]
  },
  {
   "cell_type": "code",
   "execution_count": 148,
   "metadata": {},
   "outputs": [],
   "source": [
    "import cv2\n",
    "\n",
    "face_detector = cv2.CascadeClassifier(\"D:/Computer Vision Masterclass/repo/Cascades/haarcascade_frontalface_default.xml\")\n",
    "face_recognizer = cv2.face.LBPHFaceRecognizer_create()\n",
    "face_recognizer.read(\"D:/Computer Vision Masterclass/Face recognition/lbph_classifier_2.yml\")\n",
    "width, height = 220, 220\n",
    "font = cv2.FONT_HERSHEY_COMPLEX_SMALL\n",
    "camera = cv2.VideoCapture(0)\n",
    "\n",
    "while (True):\n",
    "    connected, image = camera.read()\n",
    "    image_gray = cv2.cvtColor(image, cv2.COLOR_BGR2GRAY)\n",
    "    detections = face_detector.detectMultiScale(image_gray, scaleFactor=1.5, minSize=(30,30))\n",
    "    for (x, y, w, h) in detections:\n",
    "        image_face = cv2.resize(image_gray[y:y + w, x:x + h], (width, height))\n",
    "        cv2.rectangle(image, (x, y), (x + w, y + h), (0,0,255), 2)\n",
    "        id, confidence = face_recognizer.predict(image_face)\n",
    "        name = \"\"\n",
    "        if id == 1:\n",
    "            name = 'Jones'\n",
    "        elif id == 2:\n",
    "            name = 'Gabriel'\n",
    "        cv2.putText(image, name, (x,y +(w+30)), font, 2, (0,0,255))\n",
    "        cv2.putText(image, str(confidence), (x,y + (h+50)), font, 1, (0,0,255))\n",
    "\n",
    "    cv2.imshow(\"Face\", image)\n",
    "    if cv2.waitKey(1) == ord('q'):\n",
    "        break\n",
    "\n",
    "camera.release()\n",
    "cv2.destroyAllWindows()"
   ]
  },
  {
   "cell_type": "code",
   "execution_count": null,
   "metadata": {},
   "outputs": [],
   "source": []
  }
 ],
 "metadata": {
  "kernelspec": {
   "display_name": "Python 3.10.0 ('vision')",
   "language": "python",
   "name": "python3"
  },
  "language_info": {
   "codemirror_mode": {
    "name": "ipython",
    "version": 3
   },
   "file_extension": ".py",
   "mimetype": "text/x-python",
   "name": "python",
   "nbconvert_exporter": "python",
   "pygments_lexer": "ipython3",
   "version": "3.10.0"
  },
  "orig_nbformat": 4,
  "vscode": {
   "interpreter": {
    "hash": "e58c72fbbc48e828b04d05c21f4eefa6dd18a8487a1876d01c58ef03452063e5"
   }
  }
 },
 "nbformat": 4,
 "nbformat_minor": 2
}
