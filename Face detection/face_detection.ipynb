{
 "cells": [
  {
   "cell_type": "markdown",
   "metadata": {},
   "source": [
    "## Haarcascade"
   ]
  },
  {
   "cell_type": "code",
   "execution_count": 1,
   "metadata": {},
   "outputs": [],
   "source": [
    "import cv2"
   ]
  },
  {
   "cell_type": "code",
   "execution_count": 2,
   "metadata": {},
   "outputs": [],
   "source": [
    "image = cv2.imread('D:/Computer Vision Masterclass/repo/Images/people1.jpg')"
   ]
  },
  {
   "cell_type": "code",
   "execution_count": 3,
   "metadata": {},
   "outputs": [
    {
     "data": {
      "text/plain": [
       "(1280, 1920, 3)"
      ]
     },
     "execution_count": 3,
     "metadata": {},
     "output_type": "execute_result"
    }
   ],
   "source": [
    "image.shape"
   ]
  },
  {
   "cell_type": "code",
   "execution_count": 4,
   "metadata": {},
   "outputs": [],
   "source": [
    "def imshow(image):\n",
    "    window ='image'\n",
    "    img = cv2.imshow(window, image)\n",
    "    cv2.waitKey(0)\n",
    "    cv2.destroyAllWindows()"
   ]
  },
  {
   "cell_type": "code",
   "execution_count": 5,
   "metadata": {},
   "outputs": [
    {
     "data": {
      "text/plain": [
       "(600, 800, 3)"
      ]
     },
     "execution_count": 5,
     "metadata": {},
     "output_type": "execute_result"
    }
   ],
   "source": [
    "image = cv2.resize(image, (800,600))\n",
    "image.shape"
   ]
  },
  {
   "cell_type": "code",
   "execution_count": 6,
   "metadata": {},
   "outputs": [],
   "source": [
    "imshow(image)"
   ]
  },
  {
   "cell_type": "code",
   "execution_count": 7,
   "metadata": {},
   "outputs": [],
   "source": [
    "img = cv2.cvtColor(image, cv2.COLOR_BGR2GRAY)\n",
    "imshow(img)"
   ]
  },
  {
   "cell_type": "code",
   "execution_count": 8,
   "metadata": {},
   "outputs": [
    {
     "data": {
      "text/plain": [
       "(600, 800)"
      ]
     },
     "execution_count": 8,
     "metadata": {},
     "output_type": "execute_result"
    }
   ],
   "source": [
    "img.shape"
   ]
  },
  {
   "cell_type": "markdown",
   "metadata": {},
   "source": [
    "## Haarcascade (Face detection)"
   ]
  },
  {
   "cell_type": "code",
   "execution_count": 9,
   "metadata": {},
   "outputs": [],
   "source": [
    "image = cv2.imread('D:/Computer Vision Masterclass/repo/Images/people2.jpg')\n",
    "face_detector = cv2.CascadeClassifier('D:/Computer Vision Masterclass/repo/Cascades/haarcascade_frontalface_default.xml')\n",
    "image = cv2.resize(image, (800,600))\n",
    "image_gray = cv2.cvtColor(image, cv2.COLOR_BGR2GRAY)\n",
    "detection = face_detector.detectMultiScale(image_gray, scaleFactor=1.05, minSize=(35,35), maxSize=(50,50), minNeighbors=3 )\n",
    "for (x,y,w,h) in detection:\n",
    "    #print(x, y, w, h)\n",
    "    #print(w,h)\n",
    "    cv2.rectangle(image, (x,y), (x+w, y+h), (0,0,255), 2)\n",
    "imshow(image)"
   ]
  },
  {
   "cell_type": "markdown",
   "metadata": {},
   "source": [
    "## Haarcascade (Eye detetction)"
   ]
  },
  {
   "cell_type": "code",
   "execution_count": 10,
   "metadata": {},
   "outputs": [],
   "source": [
    "image = cv2.imread('D:/Computer Vision Masterclass/repo/Images/people1.jpg')\n",
    "face_detector = cv2.CascadeClassifier('D:/Computer Vision Masterclass/repo/Cascades/haarcascade_frontalface_default.xml')\n",
    "eye_detector = cv2.CascadeClassifier('D:/Computer Vision Masterclass/repo/Cascades/haarcascade_eye.xml')\n",
    "image = cv2.resize(image, (800,600))\n",
    "image_gray = cv2.cvtColor(image, cv2.COLOR_BGR2GRAY)\n",
    "detection = eye_detector.detectMultiScale(image_gray, scaleFactor=1.001,minNeighbors=20, maxSize=(22,22),minSize=(20,20))\n",
    "for (x,y,w,h) in detection:\n",
    "    #print(x, y, w, h)\n",
    "    #print(w,h)\n",
    "    cv2.rectangle(image, (x,y), (x+w, y+h), (0,255,0), 2)\n",
    "imshow(image)"
   ]
  },
  {
   "cell_type": "markdown",
   "metadata": {},
   "source": [
    "## HOG (Histogram of gradients)"
   ]
  },
  {
   "cell_type": "code",
   "execution_count": 11,
   "metadata": {},
   "outputs": [],
   "source": [
    "import dlib"
   ]
  },
  {
   "cell_type": "code",
   "execution_count": 12,
   "metadata": {},
   "outputs": [],
   "source": [
    "image = cv2.imread('D:/Computer Vision Masterclass/repo/Images/people2.jpg')\n",
    "face_detector_hog = dlib.get_frontal_face_detector()\n",
    "detector_hog = face_detector_hog(image, 1)\n",
    "#print(detection_hog)\n",
    "for face in detector_hog:\n",
    "    #print(face.left())\n",
    "    #print(face.top())\n",
    "    #print(face.right())\n",
    "    #print(face.bottom())\n",
    "    l, t, r, b = face.left(), face.top(), face.right(), face.bottom()\n",
    "    cv2.rectangle(image, (l, t), (r, b), (0,255,0), 2)\n",
    "imshow(image)\n"
   ]
  },
  {
   "cell_type": "markdown",
   "metadata": {},
   "source": [
    "## CNN"
   ]
  },
  {
   "cell_type": "code",
   "execution_count": 13,
   "metadata": {},
   "outputs": [],
   "source": [
    "image = cv2.imread('D:/Computer Vision Masterclass/repo/Images/people2.jpg')\n",
    "cnn_detector = dlib.cnn_face_detection_model_v1('D:/Computer Vision Masterclass/repo/Weights/mmod_human_face_detector.dat')\n",
    "detector_cnn = cnn_detector(image, 1)\n",
    "for face in detector_cnn:\n",
    "    l, t, r, b, c = face.rect.left(), face.rect.top(), face.rect.right(), face.rect.bottom(), face.confidence\n",
    "    #print(c)\n",
    "    cv2.rectangle(image, (l, t), (r, b), (255,0,0), 2)  \n",
    "imshow(image)"
   ]
  },
  {
   "cell_type": "markdown",
   "metadata": {},
   "source": [
    "## Detection through Webcam (Haarcascade)"
   ]
  },
  {
   "cell_type": "code",
   "execution_count": 35,
   "metadata": {},
   "outputs": [
    {
     "name": "stdout",
     "output_type": "stream",
     "text": [
      "187 187\n",
      "176 176\n",
      "176 176\n",
      "174 174\n",
      "172 172\n",
      "172 172\n",
      "175 175\n",
      "175 175\n",
      "175 175\n",
      "175 175\n",
      "172 172\n",
      "172 172\n",
      "176 176\n",
      "178 178\n",
      "178 178\n",
      "176 176\n",
      "176 176\n",
      "176 176\n",
      "176 176\n",
      "174 174\n",
      "174 174\n",
      "174 174\n",
      "176 176\n",
      "176 176\n",
      "176 176\n",
      "176 176\n",
      "178 178\n",
      "178 178\n",
      "183 183\n",
      "183 183\n",
      "186 186\n",
      "186 186\n",
      "183 183\n",
      "183 183\n",
      "183 183\n",
      "192 192\n",
      "192 192\n",
      "170 170\n",
      "178 178\n",
      "187 187\n",
      "184 184\n",
      "187 187\n",
      "181 181\n",
      "181 181\n",
      "177 177\n",
      "190 190\n",
      "187 187\n",
      "190 190\n",
      "190 190\n",
      "190 190\n",
      "183 183\n",
      "188 188\n",
      "181 181\n",
      "176 176\n",
      "182 182\n",
      "182 182\n",
      "184 184\n",
      "181 181\n",
      "184 184\n",
      "186 186\n",
      "188 188\n",
      "188 188\n",
      "186 186\n",
      "184 184\n",
      "184 184\n",
      "184 184\n",
      "182 182\n",
      "180 180\n",
      "182 182\n",
      "185 185\n",
      "186 186\n",
      "182 182\n",
      "188 188\n",
      "185 185\n",
      "185 185\n",
      "178 178\n",
      "189 189\n",
      "186 186\n",
      "185 185\n",
      "187 187\n",
      "188 188\n",
      "190 190\n",
      "184 184\n",
      "183 183\n",
      "186 186\n",
      "185 185\n",
      "186 186\n",
      "186 186\n",
      "186 186\n",
      "182 182\n",
      "180 180\n",
      "185 185\n",
      "182 182\n",
      "182 182\n",
      "183 183\n"
     ]
    }
   ],
   "source": [
    "face_detector = cv2.CascadeClassifier('D:/Computer Vision Masterclass/repo/Cascades/haarcascade_frontalface_default.xml')\n",
    "video_capture = cv2.VideoCapture(0)\n",
    "while True:\n",
    "\n",
    "    ret, frame = video_capture.read()\n",
    "    image_gray = cv2.cvtColor(frame, cv2.COLOR_BGR2RGB)\n",
    "    detections = face_detector.detectMultiScale(image_gray,scaleFactor=1.1, minSize=(160, 160))\n",
    "    for x, y, w, h in detections:\n",
    "        #print(w, h)\n",
    "        cv2.rectangle(frame, (x,y), (x+w, y+h), (0,255,0), 2)\n",
    "    cv2.imshow('Video',frame)\n",
    "    if cv2.waitKey(1) & 0xFF == ord('q'):\n",
    "        break\n",
    "video_capture.release()\n",
    "cv2.destroyAllWindows()\n",
    "      "
   ]
  },
  {
   "cell_type": "markdown",
   "metadata": {},
   "source": [
    "## Detection through Webcam (HOG)"
   ]
  },
  {
   "cell_type": "code",
   "execution_count": 28,
   "metadata": {},
   "outputs": [],
   "source": [
    "face_detector = dlib.get_frontal_face_detector()\n",
    "video_capture = cv2.VideoCapture(0)\n",
    "while True:\n",
    "\n",
    "    ret, frame = video_capture.read()\n",
    "    detections = face_detector(frame, 1)\n",
    "    for face in detections:\n",
    "        l, t, r, b = face.left(), face.top(), face.right(), face.bottom()\n",
    "        cv2.rectangle(frame, (l,t), (r, b), (0,255,0), 2)\n",
    "    cv2.imshow('Video',frame)\n",
    "    if cv2.waitKey(1) & 0xFF == ord('q'):\n",
    "        break\n",
    "video_capture.release()\n",
    "cv2.destroyAllWindows()\n",
    "      "
   ]
  },
  {
   "cell_type": "code",
   "execution_count": null,
   "metadata": {},
   "outputs": [],
   "source": []
  }
 ],
 "metadata": {
  "kernelspec": {
   "display_name": "Python 3.10.0 ('vision')",
   "language": "python",
   "name": "python3"
  },
  "language_info": {
   "codemirror_mode": {
    "name": "ipython",
    "version": 3
   },
   "file_extension": ".py",
   "mimetype": "text/x-python",
   "name": "python",
   "nbconvert_exporter": "python",
   "pygments_lexer": "ipython3",
   "version": "3.10.0"
  },
  "orig_nbformat": 4,
  "vscode": {
   "interpreter": {
    "hash": "e58c72fbbc48e828b04d05c21f4eefa6dd18a8487a1876d01c58ef03452063e5"
   }
  }
 },
 "nbformat": 4,
 "nbformat_minor": 2
}
